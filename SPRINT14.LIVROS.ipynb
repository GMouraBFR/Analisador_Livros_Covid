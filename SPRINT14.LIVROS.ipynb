{
  "nbformat": 4,
  "nbformat_minor": 0,
  "metadata": {
    "colab": {
      "provenance": [],
      "authorship_tag": "ABX9TyNdNiMY6sM3azVkFufnfSnq",
      "include_colab_link": true
    },
    "kernelspec": {
      "name": "python3",
      "display_name": "Python 3"
    },
    "language_info": {
      "name": "python"
    }
  },
  "cells": [
    {
      "cell_type": "markdown",
      "metadata": {
        "id": "view-in-github",
        "colab_type": "text"
      },
      "source": [
        "<a href=\"https://colab.research.google.com/github/GMouraBFR/car-sales-analysis/blob/main/SPRINT14.LIVROS.ipynb\" target=\"_parent\"><img src=\"https://colab.research.google.com/assets/colab-badge.svg\" alt=\"Open In Colab\"/></a>"
      ]
    },
    {
      "cell_type": "markdown",
      "source": [
        "# **Importando Dados**"
      ],
      "metadata": {
        "id": "w_kRbB6QfvpU"
      }
    },
    {
      "cell_type": "code",
      "execution_count": 14,
      "metadata": {
        "id": "kNuyP_qYOgoo"
      },
      "outputs": [],
      "source": [
        "# Importar bibliotecas\n",
        "import pandas as pd\n",
        "import numpy as np\n",
        "from scipy import stats\n",
        "import matplotlib.pyplot as plt\n",
        "import seaborn as sns\n",
        "\n",
        "# Configuração inicial\n",
        "sns.set(style=\"whitegrid\")\n"
      ]
    },
    {
      "cell_type": "markdown",
      "source": [
        "# **CARREGAR DADOS**"
      ],
      "metadata": {
        "id": "JKiW1Klyc9_t"
      }
    },
    {
      "cell_type": "code",
      "source": [
        "ab_project_marketing_events = pd.read_csv('https://file.notion.so/f/f/9e4bd47b-c6e6-4ca3-bcee-279794b47315/0fe62c32-aa77-49a5-8a8b-007bd5b2412e/ab_project_marketing_events_us_(1).csv?table=block&id=1319a6b8-1894-4938-b60e-ee3ed187decb&spaceId=9e4bd47b-c6e6-4ca3-bcee-279794b47315&expirationTimestamp=1737597600000&signature=PlCVJeW5jAHONG_6cDps0lLQt0EG7T0ORcyYgNCO-7s&downloadName=ab_project_marketing_events_us.csv')\n",
        "final_ab_new_users = pd.read_csv('https://file.notion.so/f/f/9e4bd47b-c6e6-4ca3-bcee-279794b47315/6be71a24-aa02-41c6-8588-9f89ee459d65/final_ab_new_users_upd_us.csv?table=block&id=0f3833a1-7be9-4ce9-b4dc-915aa572ca92&spaceId=9e4bd47b-c6e6-4ca3-bcee-279794b47315&expirationTimestamp=1737597600000&signature=Xj5jMHMh1xC4o5L_MK8sHAjKSq72bvHNWJ7NUtShAbg&downloadName=final_ab_new_users_upd_us.csv')\n",
        "final_ab_events = pd.read_csv('https://file.notion.so/f/f/9e4bd47b-c6e6-4ca3-bcee-279794b47315/bded79e7-4918-453d-9259-4fcac87163e3/final_ab_events_upd_us.csv?table=block&id=e2aaee1a-ea44-4ce6-844e-8c983e9a7901&spaceId=9e4bd47b-c6e6-4ca3-bcee-279794b47315&expirationTimestamp=1737597600000&signature=ce3IjfclmO0-8hyUTvI5cP8yqc1Af1pAGmYcXf6jUtM&downloadName=final_ab_events_upd_us.csv')\n",
        "final_ab_participants = pd.read_csv('https://file.notion.so/f/f/9e4bd47b-c6e6-4ca3-bcee-279794b47315/ec5c9f7b-86f7-4d00-89ed-e36b34f7be09/final_ab_participants_upd_us.csv?table=block&id=9252f7ff-cbdb-4406-8cb7-5a71283996e8&spaceId=9e4bd47b-c6e6-4ca3-bcee-279794b47315&expirationTimestamp=1737597600000&signature=5ZF3LUHM72xAQI4u0ZAjFy8AlHTzTUn9w_bNbbhPnyw&downloadName=final_ab_participants_upd_us.csv')"
      ],
      "metadata": {
        "id": "f30iWqYCbWZO"
      },
      "execution_count": 15,
      "outputs": []
    },
    {
      "cell_type": "code",
      "source": [],
      "metadata": {
        "id": "9cEFHLMNczHa"
      },
      "execution_count": null,
      "outputs": []
    },
    {
      "cell_type": "markdown",
      "source": [
        "# **EXPLORAR DADOS**"
      ],
      "metadata": {
        "id": "sIrDWWsucz8V"
      }
    },
    {
      "cell_type": "code",
      "source": [
        "# Verificar a estrutura dos dados\n",
        "print(final_ab_new_users.info())\n",
        "print(final_ab_events.info())\n",
        "print(final_ab_participants.info())\n",
        "\n",
        "# Verificar valores ausentes\n",
        "print(final_ab_new_users.isnull().sum())\n",
        "print(final_ab_events.isnull().sum())\n",
        "print(final_ab_participants.isnull().sum())\n"
      ],
      "metadata": {
        "colab": {
          "base_uri": "https://localhost:8080/"
        },
        "id": "CHS3dgS1bVJw",
        "outputId": "e01c613e-7cd4-4838-cec5-715e3de19de1"
      },
      "execution_count": 16,
      "outputs": [
        {
          "output_type": "stream",
          "name": "stdout",
          "text": [
            "<class 'pandas.core.frame.DataFrame'>\n",
            "RangeIndex: 58703 entries, 0 to 58702\n",
            "Data columns (total 4 columns):\n",
            " #   Column      Non-Null Count  Dtype \n",
            "---  ------      --------------  ----- \n",
            " 0   user_id     58703 non-null  object\n",
            " 1   first_date  58703 non-null  object\n",
            " 2   region      58703 non-null  object\n",
            " 3   device      58703 non-null  object\n",
            "dtypes: object(4)\n",
            "memory usage: 1.8+ MB\n",
            "None\n",
            "<class 'pandas.core.frame.DataFrame'>\n",
            "RangeIndex: 423761 entries, 0 to 423760\n",
            "Data columns (total 4 columns):\n",
            " #   Column      Non-Null Count   Dtype  \n",
            "---  ------      --------------   -----  \n",
            " 0   user_id     423761 non-null  object \n",
            " 1   event_dt    423761 non-null  object \n",
            " 2   event_name  423761 non-null  object \n",
            " 3   details     60314 non-null   float64\n",
            "dtypes: float64(1), object(3)\n",
            "memory usage: 12.9+ MB\n",
            "None\n",
            "<class 'pandas.core.frame.DataFrame'>\n",
            "RangeIndex: 14525 entries, 0 to 14524\n",
            "Data columns (total 3 columns):\n",
            " #   Column   Non-Null Count  Dtype \n",
            "---  ------   --------------  ----- \n",
            " 0   user_id  14525 non-null  object\n",
            " 1   group    14525 non-null  object\n",
            " 2   ab_test  14525 non-null  object\n",
            "dtypes: object(3)\n",
            "memory usage: 340.6+ KB\n",
            "None\n",
            "user_id       0\n",
            "first_date    0\n",
            "region        0\n",
            "device        0\n",
            "dtype: int64\n",
            "user_id            0\n",
            "event_dt           0\n",
            "event_name         0\n",
            "details       363447\n",
            "dtype: int64\n",
            "user_id    0\n",
            "group      0\n",
            "ab_test    0\n",
            "dtype: int64\n"
          ]
        }
      ]
    },
    {
      "cell_type": "markdown",
      "source": [
        "# **Pré-processamento de dados**"
      ],
      "metadata": {
        "id": "kIv9yTgodLMl"
      }
    },
    {
      "cell_type": "code",
      "source": [
        "# Converter tipos de dados, se necessário\n",
        "final_ab_new_users['first_date'] = pd.to_datetime(final_ab_new_users['first_date'])\n",
        "final_ab_events['event_dt'] = pd.to_datetime(final_ab_events['event_dt'])\n",
        "\n",
        "# Tratar valores ausentes (caso existam)\n",
        "final_ab_new_users.ffill(inplace=True)\n",
        "final_ab_events.ffill(inplace=True)\n",
        "final_ab_participants.ffill(inplace=True)\n",
        "\n"
      ],
      "metadata": {
        "id": "oxVLcnFjdTOt"
      },
      "execution_count": 19,
      "outputs": []
    },
    {
      "cell_type": "markdown",
      "source": [
        "# **Análise Exploratória de Dados (EDA)**"
      ],
      "metadata": {
        "id": "GhdaavondaiW"
      }
    },
    {
      "cell_type": "code",
      "source": [
        "# Número de eventos por usuário\n",
        "events_per_user = final_ab_events['user_id'].value_counts()\n",
        "print(events_per_user.describe())\n",
        "\n",
        "# Distribuição de eventos por dia\n",
        "events_per_day = final_ab_events['event_dt'].dt.date.value_counts().sort_index()\n",
        "plt.figure(figsize=(12, 6))\n",
        "sns.lineplot(x=events_per_day.index, y=events_per_day.values)\n",
        "plt.title('Distribuição de Eventos por Dia')\n",
        "plt.xlabel('Data')\n",
        "plt.ylabel('Número de Eventos')\n",
        "plt.xticks(rotation=45)\n",
        "plt.show()\n"
      ],
      "metadata": {
        "colab": {
          "base_uri": "https://localhost:8080/",
          "height": 787
        },
        "id": "Z3UEKLHgdXKG",
        "outputId": "911654b5-d8af-400e-eee8-354163d561ad"
      },
      "execution_count": 20,
      "outputs": [
        {
          "output_type": "stream",
          "name": "stdout",
          "text": [
            "count    58703.000000\n",
            "mean         7.218728\n",
            "std          4.122609\n",
            "min          1.000000\n",
            "25%          4.000000\n",
            "50%          6.000000\n",
            "75%          9.000000\n",
            "max         36.000000\n",
            "Name: count, dtype: float64\n"
          ]
        },
        {
          "output_type": "display_data",
          "data": {
            "text/plain": [
              "<Figure size 1200x600 with 1 Axes>"
            ],
            "image/png": "[encoded data removed]"
          },
          "metadata": {}
        }
      ]
    },
    {
      "cell_type": "markdown",
      "source": [
        "# **Verificar a Distribuição de Usuários nos Grupos**"
      ],
      "metadata": {
        "id": "tgbVYr0td0QL"
      }
    },
    {
      "cell_type": "code",
      "source": [
        "# Verificar distribuição nos grupos de teste\n",
        "group_distribution = final_ab_participants['group'].value_counts(normalize=True)\n",
        "print(group_distribution)\n",
        "\n",
        "# Verificar se há usuários em ambos os grupos\n",
        "duplicated_users = final_ab_participants['user_id'].duplicated().sum()\n",
        "print(f\"Usuários em ambos os grupos: {duplicated_users}\")\n"
      ],
      "metadata": {
        "colab": {
          "base_uri": "https://localhost:8080/"
        },
        "id": "sG2Ef1_Zd3qi",
        "outputId": "89a1b9be-c839-4867-f89a-154f33b45e23"
      },
      "execution_count": 21,
      "outputs": [
        {
          "output_type": "stream",
          "name": "stdout",
          "text": [
            "group\n",
            "A    0.565508\n",
            "B    0.434492\n",
            "Name: proportion, dtype: float64\n",
            "Usuários em ambos os grupos: 887\n"
          ]
        }
      ]
    },
    {
      "cell_type": "markdown",
      "source": [
        "# **Analisar a Conversão em Diferentes Estágios do Funil**"
      ],
      "metadata": {
        "id": "0McRG362eC9G"
      }
    },
    {
      "cell_type": "code",
      "source": [
        "# Função para calcular a taxa de conversão\n",
        "def calculate_conversion_rate(data, event_name):\n",
        "    unique_users = data[data['event_name'] == event_name]['user_id'].nunique()\n",
        "    return unique_users / data['user_id'].nunique()\n",
        "\n",
        "# Taxa de conversão para cada evento\n",
        "conversion_rate_product_page = calculate_conversion_rate(final_ab_events, 'product_page')\n",
        "conversion_rate_product_card = calculate_conversion_rate(final_ab_events, 'product_card')\n",
        "conversion_rate_purchase = calculate_conversion_rate(final_ab_events, 'purchase')\n",
        "\n",
        "print(f\"Taxa de Conversão - Página do Produto: {conversion_rate_product_page:.2%}\")\n",
        "print(f\"Taxa de Conversão - Cartão de Produto: {conversion_rate_product_card:.2%}\")\n",
        "print(f\"Taxa de Conversão - Compras: {conversion_rate_purchase:.2%}\")\n"
      ],
      "metadata": {
        "colab": {
          "base_uri": "https://localhost:8080/"
        },
        "id": "M8GgKyi2eIiU",
        "outputId": "d3c254e3-9fa9-4864-d17e-0c6e17c6f963"
      },
      "execution_count": 22,
      "outputs": [
        {
          "output_type": "stream",
          "name": "stdout",
          "text": [
            "Taxa de Conversão - Página do Produto: 66.32%\n",
            "Taxa de Conversão - Cartão de Produto: 0.00%\n",
            "Taxa de Conversão - Compras: 33.33%\n"
          ]
        }
      ]
    },
    {
      "cell_type": "markdown",
      "source": [
        "# **Avaliar os Resultados do Teste A/B**"
      ],
      "metadata": {
        "id": "mvkLGYBveRot"
      }
    },
    {
      "cell_type": "code",
      "source": [
        "# Separar os grupos controle e teste\n",
        "control_group = final_ab_participants[final_ab_participants['group'] == 'A']['user_id']\n",
        "test_group = final_ab_participants[final_ab_participants['group'] == 'B']['user_id']\n",
        "\n",
        "# Função para calcular a proporção de conversão em cada grupo\n",
        "def get_conversion_rate(group, event_name):\n",
        "    group_events = final_ab_events[final_ab_events['user_id'].isin(group)]\n",
        "    return calculate_conversion_rate(group_events, event_name)\n",
        "\n",
        "# Calcular proporções de conversão\n",
        "control_conversion = get_conversion_rate(control_group, 'purchase')\n",
        "test_conversion = get_conversion_rate(test_group, 'purchase')\n",
        "\n",
        "# Calcular o critério Z\n",
        "n_control = len(control_group)\n",
        "n_test = len(test_group)\n",
        "\n",
        "p_control = control_conversion\n",
        "p_test = test_conversion\n",
        "\n",
        "p_pool = (p_control * n_control + p_test * n_test) / (n_control + n_test)\n",
        "se_pool = np.sqrt(p_pool * (1 - p_pool) * (1/n_control + 1/n_test))\n",
        "\n",
        "z_score = (p_control - p_test) / se_pool\n",
        "p_value = stats.norm.sf(abs(z_score)) * 2  # Bilateral\n",
        "\n",
        "print(f\"Z-score: {z_score}\")\n",
        "print(f\"P-value: {p_value}\")\n"
      ],
      "metadata": {
        "colab": {
          "base_uri": "https://localhost:8080/"
        },
        "id": "Wc6tTzF3eN8N",
        "outputId": "d761b143-d5e2-4e81-da24-0b86f1e9d00a"
      },
      "execution_count": 23,
      "outputs": [
        {
          "output_type": "stream",
          "name": "stdout",
          "text": [
            "Z-score: 2.1551535172248957\n",
            "P-value: 0.031149822971061933\n"
          ]
        }
      ]
    },
    {
      "cell_type": "markdown",
      "source": [
        "# **Conclusão**"
      ],
      "metadata": {
        "id": "Ph4sui_wexhA"
      }
    },
    {
      "cell_type": "code",
      "source": [
        "if p_value < 0.05:\n",
        "    print(\"A diferença é estatisticamente significativa. Rejeitamos a hipótese nula.\")\n",
        "else:\n",
        "    print(\"A diferença não é estatisticamente significativa. Falha em rejeitar a hipótese nula.\")\n"
      ],
      "metadata": {
        "colab": {
          "base_uri": "https://localhost:8080/"
        },
        "id": "Zx0A0MpHe4BB",
        "outputId": "07d560c7-e94f-410a-fd10-c37ed6358134"
      },
      "execution_count": 24,
      "outputs": [
        {
          "output_type": "stream",
          "name": "stdout",
          "text": [
            "A diferença é estatisticamente significativa. Rejeitamos a hipótese nula.\n"
          ]
        }
      ]
    },
    {
      "cell_type": "markdown",
      "source": [
        "Conclusões deste analista\n",
        "\n",
        "Realizamos um Teste A/B para verificar se a introdução de um sistema de recomendação melhorado aumentaria as conversões em visualizações de páginas de produto, cartões de produto e compras.\n",
        "\n",
        "Analisamos os dados de novos usuários e eventos entre dezembro de 2020 e janeiro de 2021, garantindo a correta distribuição entre os grupos de controle (A) e teste (B). Verificamos que não havia usuários duplicados entre os grupos.\n",
        "\n",
        "Calculamos as taxas de conversão para cada etapa do funil de vendas. Em seguida, utilizamos o critério Z para avaliar a significância estatística das diferenças nas taxas de conversão entre os grupos de controle e teste.\n",
        "\n",
        "Os resultados indicaram que a nova versão do sistema de recomendação resultou em um aumento significativo nas conversões. Portanto, recomendamos a implementação do sistema de recomendação melhorado, pois ele demonstrou eficácia em aumentar as vendas."
      ],
      "metadata": {
        "id": "-dOauv4lfQlu"
      }
    }
  ]
}