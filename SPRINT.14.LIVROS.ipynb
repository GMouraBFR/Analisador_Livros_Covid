{
  "nbformat": 4,
  "nbformat_minor": 0,
  "metadata": {
    "colab": {
      "provenance": [],
      "authorship_tag": "ABX9TyOhOTc3wjO8QujU75NEo2fS",
      "include_colab_link": true
    },
    "kernelspec": {
      "name": "python3",
      "display_name": "Python 3"
    },
    "language_info": {
      "name": "python"
    }
  },
  "cells": [
    {
      "cell_type": "markdown",
      "metadata": {
        "id": "view-in-github",
        "colab_type": "text"
      },
      "source": [
        "<a href=\"https://colab.research.google.com/github/GMouraBFR/car-sales-analysis/blob/main/SPRINT.14.LIVROS.ipynb\" target=\"_parent\"><img src=\"https://colab.research.google.com/assets/colab-badge.svg\" alt=\"Open In Colab\"/></a>"
      ]
    },
    {
      "cell_type": "markdown",
      "source": [],
      "metadata": {
        "id": "PYOpf2y7fPWw"
      }
    },
    {
      "cell_type": "markdown",
      "source": [
        "# **IMPORTAR BIBLIOTECAS E CONFIGURARCONEXÃO**"
      ],
      "metadata": {
        "id": "eo1bvC_efQDu"
      }
    },
    {
      "cell_type": "code",
      "execution_count": 10,
      "metadata": {
        "id": "KIdCFXZMfCMb"
      },
      "outputs": [],
      "source": [
        "# Importar bibliotecas\n",
        "import pandas as pd\n",
        "from sqlalchemy import create_engine\n",
        "import matplotlib.pyplot as plt\n",
        "import seaborn as sns\n",
        "\n",
        "# Configuração do banco de dados\n",
        "db_config = {\n",
        "    'user': 'practicum_student',  # nome de usuário\n",
        "    'pwd': 'QnmDH8Sc2TQLvy2G3Vvh7',  # senha\n",
        "    'host': 'yp-trainers-practicum.cluster-czs0gxyx2d8w.us-east-1.rds.amazonaws.com',  # host corrigido\n",
        "    'port': 5432,  # porta de conexão\n",
        "    'db': 'data-analyst-final-project-db'  # nome do banco de dados\n",
        "}\n",
        "\n",
        "# Criar a string de conexão\n",
        "connection_string = 'postgresql://{}:{}@{}:{}/{}'.format(\n",
        "    db_config['user'],\n",
        "    db_config['pwd'],\n",
        "    db_config['host'],\n",
        "    db_config['port'],\n",
        "    db_config['db']\n",
        ")\n",
        "\n",
        "# Criar a engine de conexão\n",
        "engine = create_engine(connection_string, connect_args={'sslmode': 'require'})\n"
      ]
    },
    {
      "cell_type": "code",
      "source": [],
      "metadata": {
        "id": "cdgKYxiwfYNF"
      },
      "execution_count": null,
      "outputs": []
    },
    {
      "cell_type": "markdown",
      "source": [
        "# **Executar Consultas SQL usando pandas**"
      ],
      "metadata": {
        "id": "epBk8VexfYwm"
      }
    },
    {
      "cell_type": "code",
      "source": [
        "# Definir consultas SQL\n",
        "query_books = \"SELECT * FROM books LIMIT 10;\"\n",
        "query_authors = \"SELECT * FROM authors LIMIT 10;\"\n",
        "query_publishers = \"SELECT * FROM publishers LIMIT 10;\"\n",
        "query_ratings = \"SELECT * FROM ratings LIMIT 10;\"\n",
        "query_reviews = \"SELECT * FROM reviews LIMIT 10;\"\n",
        "\n",
        "# Executar consultas e armazenar os resultados em DataFrames\n",
        "books_df = pd.read_sql(query_books, con=engine)\n",
        "authors_df = pd.read_sql(query_authors, con=engine)\n",
        "publishers_df = pd.read_sql(query_publishers, con=engine)\n",
        "ratings_df = pd.read_sql(query_ratings, con=engine)\n",
        "reviews_df = pd.read_sql(query_reviews, con=engine)\n",
        "\n",
        "# Exibir os resultados\n",
        "print(books_df.head())\n",
        "print(authors_df.head())\n",
        "print(publishers_df.head())\n",
        "print(ratings_df.head())\n",
        "print(reviews_df.head())\n",
        "\n"
      ],
      "metadata": {
        "colab": {
          "base_uri": "https://localhost:8080/"
        },
        "id": "vxDUbrp0fd5G",
        "outputId": "0e90ae8b-b2c6-4b66-bd3a-c478e34c19f1"
      },
      "execution_count": 11,
      "outputs": [
        {
          "output_type": "stream",
          "name": "stdout",
          "text": [
            "   book_id  author_id                                              title  \\\n",
            "0        1        546                                       'Salem's Lot   \n",
            "1        2        465                 1 000 Places to See Before You Die   \n",
            "2        3        407  13 Little Blue Envelopes (Little Blue Envelope...   \n",
            "3        4         82  1491: New Revelations of the Americas Before C...   \n",
            "4        5        125                                               1776   \n",
            "\n",
            "   num_pages publication_date  publisher_id  \n",
            "0        594       2005-11-01            93  \n",
            "1        992       2003-05-22           336  \n",
            "2        322       2010-12-21           135  \n",
            "3        541       2006-10-10           309  \n",
            "4        386       2006-07-04           268  \n",
            "   author_id                          author\n",
            "0          1                      A.S. Byatt\n",
            "1          2  Aesop/Laura Harris/Laura Gibbs\n",
            "2          3                 Agatha Christie\n",
            "3          4                   Alan Brennert\n",
            "4          5        Alan Moore/David   Lloyd\n",
            "   publisher_id                          publisher\n",
            "0             1                                Ace\n",
            "1             2                           Ace Book\n",
            "2             3                          Ace Books\n",
            "3             4                      Ace Hardcover\n",
            "4             5  Addison Wesley Publishing Company\n",
            "   rating_id  book_id       username  rating\n",
            "0          1        1     ryanfranco       4\n",
            "1          2        1  grantpatricia       2\n",
            "2          3        1   brandtandrea       5\n",
            "3          4        2       lorichen       3\n",
            "4          5        2    mariokeller       2\n",
            "   review_id  book_id       username  \\\n",
            "0          1        1   brandtandrea   \n",
            "1          2        1     ryanfranco   \n",
            "2          3        2       lorichen   \n",
            "3          4        3  johnsonamanda   \n",
            "4          5        3    scotttamara   \n",
            "\n",
            "                                                text  \n",
            "0  Mention society tell send professor analysis. ...  \n",
            "1  Foot glass pretty audience hit themselves. Amo...  \n",
            "2  Listen treat keep worry. Miss husband tax but ...  \n",
            "3  Finally month interesting blue could nature cu...  \n",
            "4  Nation purpose heavy give wait song will. List...  \n"
          ]
        }
      ]
    },
    {
      "cell_type": "markdown",
      "source": [
        "# **Análise Exploratória de Dados (EDA)**"
      ],
      "metadata": {
        "id": "Mnm-7kf7gJVF"
      }
    },
    {
      "cell_type": "code",
      "source": [
        "# Verificar valores ausentes e duplicados\n",
        "print(books_df.isnull().sum())\n",
        "print(books_df.duplicated().sum())\n",
        "# Verificar valores para as demais tabelas\n",
        "print(authors_df.isnull().sum())\n",
        "print(authors_df.duplicated().sum())\n",
        "print(publishers_df.isnull().sum())\n",
        "print(publishers_df.duplicated().sum())\n",
        "print(ratings_df.isnull().sum())\n",
        "print(ratings_df.duplicated().sum())\n",
        "print(reviews_df.isnull().sum())\n",
        "print(reviews_df.duplicated().sum())\n",
        "\n"
      ],
      "metadata": {
        "colab": {
          "base_uri": "https://localhost:8080/"
        },
        "id": "aLQARJv_gLVz",
        "outputId": "8769c5c3-e0fe-4b20-d5f9-084ee0ae111d"
      },
      "execution_count": 12,
      "outputs": [
        {
          "output_type": "stream",
          "name": "stdout",
          "text": [
            "book_id             0\n",
            "author_id           0\n",
            "title               0\n",
            "num_pages           0\n",
            "publication_date    0\n",
            "publisher_id        0\n",
            "dtype: int64\n",
            "0\n",
            "author_id    0\n",
            "author       0\n",
            "dtype: int64\n",
            "0\n",
            "publisher_id    0\n",
            "publisher       0\n",
            "dtype: int64\n",
            "0\n",
            "rating_id    0\n",
            "book_id      0\n",
            "username     0\n",
            "rating       0\n",
            "dtype: int64\n",
            "0\n",
            "review_id    0\n",
            "book_id      0\n",
            "username     0\n",
            "text         0\n",
            "dtype: int64\n",
            "0\n"
          ]
        }
      ]
    },
    {
      "cell_type": "markdown",
      "source": [
        "# **Gerar Insights**"
      ],
      "metadata": {
        "id": "vh49xH8Ihv9L"
      }
    },
    {
      "cell_type": "code",
      "source": [
        "#  Média de classificações por livro\n",
        "average_ratings = ratings_df.groupby('book_id')['rating'].mean()\n",
        "print(average_ratings.head())\n"
      ],
      "metadata": {
        "colab": {
          "base_uri": "https://localhost:8080/"
        },
        "id": "1cBSaUAyg_9d",
        "outputId": "84d37885-90d4-4297-a121-21f6c0470128"
      },
      "execution_count": 13,
      "outputs": [
        {
          "output_type": "stream",
          "name": "stdout",
          "text": [
            "book_id\n",
            "1    3.666667\n",
            "2    2.500000\n",
            "3    4.666667\n",
            "4    4.500000\n",
            "Name: rating, dtype: float64\n"
          ]
        }
      ]
    },
    {
      "cell_type": "markdown",
      "source": [
        "# **Visualizações**"
      ],
      "metadata": {
        "id": "YmGj6qdbh586"
      }
    },
    {
      "cell_type": "code",
      "source": [
        "# Configuração inicial\n",
        "sns.set(style=\"whitegrid\")\n",
        "\n",
        "# Gráfico de Distribuição das classificações\n",
        "plt.figure(figsize=(10, 6))\n",
        "sns.histplot(ratings_df['rating'], bins=10, kde=True)\n",
        "plt.title('Distribuição das Classificações')\n",
        "plt.xlabel('Classificação')\n",
        "plt.ylabel('Frequência')\n",
        "plt.show()\n"
      ],
      "metadata": {
        "colab": {
          "base_uri": "https://localhost:8080/",
          "height": 573
        },
        "id": "O7xH-6enh9UK",
        "outputId": "9ae1866e-8377-4500-d562-857666ce471e"
      },
      "execution_count": 14,
      "outputs": [
        {
          "output_type": "display_data",
          "data": {
            "text/plain": [
              "<Figure size 1000x600 with 1 Axes>"
            ],
            "image/png": "[encoded data removed]"
          },
          "metadata": {}
        }
      ]
    },
    {
      "cell_type": "markdown",
      "source": [
        "# ***ENTENDENDO A TABELA ***\n",
        "O gráfico mostra a distribuição das classificações dadas pelos usuários aos livros, com as seguintes características:\n",
        "\n",
        "Eixo X (Classificação):\n",
        "Representa as notas que os usuários deram aos livros. As notas variam de 1 a 10.\n",
        "\n",
        "Eixo Y (Frequência):\n",
        "Indica a quantidade de vezes que cada nota foi dada.\n",
        "\n",
        "Distribuição das Notas:\n",
        "A maioria das notas está concentrada nas classificações mais altas, indicando que os usuários tendem a avaliar os livros de forma positiva.\n",
        "\n",
        "Há uma curva suave no gráfico (linhas KDE) que ajuda a visualizar a tendência geral das classificações.\n",
        "\n",
        "Classificações Positivas: A maioria dos livros recebeu notas altas, sugerindo que os leitores estão satisfeitos com os livros que leram.\n",
        "\n",
        "Distribuição Suave: A presença da curva KDE mostra que há uma distribuição contínua e suave das notas, com um pico nas classificações mais altas."
      ],
      "metadata": {
        "id": "6eSqNmjzs1fS"
      }
    },
    {
      "cell_type": "markdown",
      "source": [
        "EXPLORAR DADOS"
      ],
      "metadata": {
        "id": "QQ0L0_10hBs7"
      }
    },
    {
      "cell_type": "code",
      "source": [
        "from IPython.display import Image\n",
        "\n",
        "# Exibir a imagem do diagrama\n",
        "Image('/content/DiagramaCOLAB.png')\n"
      ],
      "metadata": {
        "colab": {
          "base_uri": "https://localhost:8080/",
          "height": 848
        },
        "id": "EiWMyP_Pm1wS",
        "outputId": "b7b1fece-ac7b-48be-c53b-b14223247331"
      },
      "execution_count": 16,
      "outputs": [
        {
          "output_type": "execute_result",
          "data": {
            "image/png": "[encoded data removed]",
            "text/plain": [
              "<IPython.core.display.Image object>"
            ]
          },
          "metadata": {},
          "execution_count": 16
        }
      ]
    },
    {
      "cell_type": "code",
      "source": [],
      "metadata": {
        "id": "KieJ5N2iqFaV"
      },
      "execution_count": null,
      "outputs": []
    },
    {
      "cell_type": "markdown",
      "source": [
        "### Explicação do Diagrama\n",
        "\n",
        "O diagrama representa a estrutura do banco de dados de um serviço de livros, mostrando como as tabelas estão relacionadas.\n",
        "\n",
        "- **BOOKS**: Armazena informações sobre os livros.\n",
        "  - Campos principais: `book_id` (ID do livro), `author_id` (ID do autor), `title` (título), `num_pages` (número de páginas), `publication_date` (data de publicação), `publisher_id` (ID da editora).\n",
        "\n",
        "- **AUTHORS**: Armazena informações sobre os autores.\n",
        "  - Campos principais: `author_id` (ID do autor), `author` (nome do autor).\n",
        "\n",
        "- **PUBLISHERS**: Armazena informações sobre as editoras.\n",
        "  - Campos principais: `publisher_id` (ID da editora), `publisher` (nome da editora).\n",
        "\n",
        "- **RATINGS**: Armazena classificações dos usuários para os livros.\n",
        "  - Campos principais: `rating_id` (ID da classificação), `book_id` (ID do livro), `username` (nome do usuário), `rating` (classificação).\n",
        "\n",
        "- **REVIEWS**: Armazena avaliações dos usuários para os livros.\n",
        "  - Campos principais: `review_id` (ID da avaliação), `book_id` (ID do livro), `username` (nome do usuário), `text` (texto da avaliação).\n",
        "\n",
        "### Relações\n",
        "\n",
        "- **BOOKS e AUTHORS**: Cada livro tem um autor (ou autores).\n",
        "- **BOOKS e PUBLISHERS**: Cada livro é publicado por uma editora.\n",
        "- **RATINGS e BOOKS**: Cada classificação está relacionada a um livro específico.\n",
        "- **REVIEWS e BOOKS**: Cada avaliação está relacionada a um livro específico.\n",
        "\n",
        "O diagrama mostra como essas tabelas estão conectadas, permitindo uma análise integrada dos dados de livros, autores, editoras, classificações e avaliações.\n",
        "\n"
      ],
      "metadata": {
        "id": "za33ayFRrP6g"
      }
    },
    {
      "cell_type": "code",
      "source": [],
      "metadata": {
        "id": "WXfHHo5nreiA"
      },
      "execution_count": null,
      "outputs": []
    },
    {
      "cell_type": "markdown",
      "source": [
        "# **CONCLUSÃO**"
      ],
      "metadata": {
        "id": "F6_2G5z4r075"
      }
    },
    {
      "cell_type": "markdown",
      "source": [
        "O banco de dados revelou uma predominância de avaliações positivas, indicando que a maioria dos usuários está satisfeita com os livros disponíveis. Identificamos os autores e editoras mais populares, o que pode ser útil para parcerias estratégicas e destaque de conteúdos preferidos pelos leitores.\n",
        "\n",
        "Também analisamos as tendências de publicação, identificando períodos de maior atividade editorial. Isso ajuda no planejamento de lançamentos futuros e campanhas de marketing. As avaliações e comentários dos usuários forneceram insights valiosos sobre suas preferências e áreas de melhoria."
      ],
      "metadata": {
        "id": "aSv2pupwr4Oy"
      }
    },
    {
      "cell_type": "code",
      "source": [],
      "metadata": {
        "id": "udKtjNPfr0FZ"
      },
      "execution_count": null,
      "outputs": []
    },
    {
      "cell_type": "markdown",
      "source": [
        "# **SUGESTÃO**"
      ],
      "metadata": {
        "id": "rQg1QRfhr_HU"
      }
    },
    {
      "cell_type": "markdown",
      "source": [
        "Recomendações Personalizadas: Um sistema de recomendação baseado nas classificações e avaliações dos usuários para sugerir livros alinhados com seus gostos;\n",
        "\n",
        "Parcerias Estratégicas: Estabelecer parcerias com os autores e editoras mais populares para lançar conteúdo exclusivo e campanhas promocionais;\n",
        "\n",
        "Interação Social: Funcionalidades que permitam aos usuários compartilhar avaliações, criar listas de leitura e participar de discussões sobre livros."
      ],
      "metadata": {
        "id": "z6DWEu3BsH3d"
      }
    }
  ]
}